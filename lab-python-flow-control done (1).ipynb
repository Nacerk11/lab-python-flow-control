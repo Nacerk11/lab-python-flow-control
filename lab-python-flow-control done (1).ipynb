{
 "cells": [
  {
   "cell_type": "markdown",
   "id": "d3bfc191-8885-42ee-b0a0-bbab867c6f9f",
   "metadata": {
    "tags": []
   },
   "source": [
    "# Lab | Flow Control"
   ]
  },
  {
   "cell_type": "markdown",
   "id": "3851fcd1-cf98-4653-9c89-e003b7ec9400",
   "metadata": {},
   "source": [
    "### Exercise: Managing Customer Orders Optimized\n",
    "\n",
    "In the last lab, you were starting an online store that sells various products. To ensure smooth operations, you developed a program that manages customer orders and inventory.\n",
    "\n",
    "You did so without using flow control. Let's go a step further and improve this code.\n",
    "\n",
    "Follow the steps below to complete the exercise:\n",
    "\n",
    "1. Look at your code from the lab data structures, and improve repeated code with loops.\n",
    "\n",
    "2. Instead of asking the user to input the name of three products that a customer wants to order, do the following:\n",
    "    \n",
    "    a. Prompt the user to enter the name of a product that a customer wants to order.\n",
    "    \n",
    "    b. Add the product name to the \"customer_orders\" set.\n",
    "    \n",
    "    c. Ask the user if they want to add another product (yes/no).\n",
    "    \n",
    "    d. Continue the loop until the user does not want to add another product.\n",
    "\n",
    "3. Instead of updating the inventory by subtracting 1 from the quantity of each product, only do it for  the products that were ordered (those in \"customer_orders\")."
   ]
  },
  {
   "cell_type": "code",
   "execution_count": null,
   "id": "d2aa6b22-f1a2-4449-bbad-86e89b15ae22",
   "metadata": {},
   "outputs": [],
   "source": [
    " # 1.Look at your code from the lab data structures, and improve repeated code with loops."
   ]
  },
  {
   "cell_type": "code",
   "execution_count": 9,
   "id": "bfcdc99d-ceb3-48c3-8b93-82cb9f450eab",
   "metadata": {},
   "outputs": [
    {
     "name": "stdin",
     "output_type": "stream",
     "text": [
      "Add the exact value of the inventory of t-shirt: 1\n",
      "Add the exact value of the inventory of mug: 1\n",
      "Add the exact value of the inventory of hat: 1\n",
      "Add the exact value of the inventory of book: 111\n",
      "Add the exact value of the inventory of key chain: 1\n"
     ]
    }
   ],
   "source": [
    "products = [\"t-shirt\", \"mug\", \"hat\", \"book\",\"key chain\"]\n",
    "inventory = {}\n",
    "for product in products:\n",
    "    value = int(input(f\"Add the exact value of the inventory of {product}:\"))\n",
    "    inventory[product] = value\n",
    "customer_orders = set()"
   ]
  },
  {
   "cell_type": "code",
   "execution_count": 13,
   "id": "e4ce5881-0659-49d8-ac5b-e1de6211acae",
   "metadata": {},
   "outputs": [
    {
     "name": "stdin",
     "output_type": "stream",
     "text": [
      "Pick a products you want to order: ['t-shirt', 'mug', 'hat', 'book', 'key chain']  mug\n",
      "Pick a products you want to order: ['t-shirt', 'mug', 'hat', 'book', 'key chain']  book\n",
      "Pick a products you want to order: ['t-shirt', 'mug', 'hat', 'book', 'key chain']  hat\n"
     ]
    }
   ],
   "source": [
    "for i in range(3):\n",
    "  order= input(f\"Pick a products you want to order: {products} \")\n",
    "  customer_orders.add(order)\n",
    "\n",
    "          "
   ]
  },
  {
   "cell_type": "code",
   "execution_count": 15,
   "id": "08e6884f-604a-42cf-9d5d-7dcd2b3d604b",
   "metadata": {},
   "outputs": [
    {
     "data": {
      "text/plain": [
       "{'book', 'hat', 'mug'}"
      ]
     },
     "execution_count": 15,
     "metadata": {},
     "output_type": "execute_result"
    }
   ],
   "source": [
    "# Print the products in the customer_orders set\n",
    "customer_orders\n"
   ]
  },
  {
   "cell_type": "code",
   "execution_count": 17,
   "id": "cdc745a6-c545-469b-be26-79fc6f62d64f",
   "metadata": {},
   "outputs": [
    {
     "name": "stdout",
     "output_type": "stream",
     "text": [
      "Order Statistics: 3\n",
      "Total Products Ordered: 3\n",
      "Percentage of Products Ordered: 60.0%\n"
     ]
    }
   ],
   "source": [
    "total_products_ordered = len(customer_orders)\n",
    "percentage_ordered =(total_products_ordered/len(products))*100\n",
    "order_status = (total_products_ordered, percentage_ordered)\n",
    "print(f\"Order Statistics: {order_status[0]}\")\n",
    "print(f\"Total Products Ordered: {total_products_ordered}\")\n",
    "print(f\"Percentage of Products Ordered: {percentage_ordered}%\")\n"
   ]
  },
  {
   "cell_type": "code",
   "execution_count": 19,
   "id": "215bae5b-e2c8-45b0-ad57-af1796b6fdce",
   "metadata": {},
   "outputs": [
    {
     "data": {
      "text/plain": [
       "{'t-shirt': 1, 'mug': 0, 'hat': 0, 'book': 110, 'key chain': 1}"
      ]
     },
     "execution_count": 19,
     "metadata": {},
     "output_type": "execute_result"
    }
   ],
   "source": [
    "for product in customer_orders:\n",
    "    inventory[product] -= 1\n",
    "inventory\n"
   ]
  },
  {
   "cell_type": "code",
   "execution_count": 25,
   "id": "2f39feb6-f07e-4461-b1fe-b4e7c2385848",
   "metadata": {},
   "outputs": [
    {
     "name": "stdout",
     "output_type": "stream",
     "text": [
      "t-shirt: 1\n",
      "mug: 0\n",
      "hat: 0\n",
      "book: 110\n",
      "key chain: 1\n"
     ]
    }
   ],
   "source": [
    "for product, quantity in inventory.items():\n",
    "    print(f\"{product}: {quantity}\")"
   ]
  },
  {
   "cell_type": "code",
   "execution_count": null,
   "id": "82e14a8b-a468-4310-ba76-2ddd18eb16c1",
   "metadata": {},
   "outputs": [],
   "source": []
  },
  {
   "cell_type": "code",
   "execution_count": 30,
   "id": "51db8ed9-7074-4822-a5ac-1d9c5e7cd901",
   "metadata": {},
   "outputs": [],
   "source": [
    " ## Instead of asking the user to input the name of three products that a customer wants to order, do the following:\n",
    "\n",
    " ## a. Prompt the user to enter the name of a product that a customer wants to order.\n",
    "\n",
    " ## b. Add the product name to the \"customer_orders\" set.\n",
    "\n",
    " ##c. Ask the user if they want to add another product (yes/no).\n",
    "\n",
    " ##d. Continue the loop until the user does not want to add another product."
   ]
  },
  {
   "cell_type": "code",
   "execution_count": 34,
   "id": "d530bd4e-e2fb-4063-9499-56073b6f70c8",
   "metadata": {},
   "outputs": [
    {
     "name": "stdin",
     "output_type": "stream",
     "text": [
      "Add the exact value of the inventory of t-shirt:  1\n",
      "Add the exact value of the inventory of mug:  2\n",
      "Add the exact value of the inventory of hat:  3\n",
      "Add the exact value of the inventory of book:  4\n",
      "Add the exact value of the inventory of key chain:  4\n",
      "Pick a product you want to order: ['t-shirt', 'mug', 'hat', 'book', 'key chain']  mug\n",
      "Do you want to add another product? (yes/no):  yes\n",
      "Pick a product you want to order: ['t-shirt', 'mug', 'hat', 'book', 'key chain']  hat\n",
      "Do you want to add another product? (yes/no):  yes\n",
      "Pick a product you want to order: ['t-shirt', 'mug', 'hat', 'book', 'key chain']  book\n",
      "Do you want to add another product? (yes/no):  no\n"
     ]
    }
   ],
   "source": [
    "products = [\"t-shirt\", \"mug\", \"hat\", \"book\", \"key chain\"]\n",
    "inventory = {}\n",
    "\n",
    "# Step 1: Fill the inventory with product values\n",
    "for product in products:\n",
    "    value = int(input(f\"Add the exact value of the inventory of {product}: \"))\n",
    "    inventory[product] = value\n",
    "\n",
    "# Step 2: Process customer orders\n",
    "customer_orders = set()\n",
    "\n",
    "while True:\n",
    "    order = input(f\"Pick a product you want to order: {products} \")\n",
    "    \n",
    "    if order not in products:\n",
    "        print(\"Invalid product. Please select a valid product from the list.\")\n",
    "        continue\n",
    "    \n",
    "    customer_orders.add(order)\n",
    "    \n",
    "    another_order = input(\"Do you want to add another product? (yes/no): \").strip().lower()\n",
    "    if another_order != \"yes\":\n",
    "        break\n",
    "\n",
    "\n"
   ]
  },
  {
   "cell_type": "code",
   "execution_count": 36,
   "id": "b50fad2a-7100-4a3c-b520-7db2fc3ca825",
   "metadata": {},
   "outputs": [],
   "source": [
    "## 3. Instead of updating the inventory by subtracting 1 from the quantity of each product, only do it for the products that were ordered (those in \"customer_orders\")."
   ]
  },
  {
   "cell_type": "code",
   "execution_count": 40,
   "id": "21818d48-449a-4ab9-9607-f9b136a25fad",
   "metadata": {},
   "outputs": [
    {
     "name": "stdout",
     "output_type": "stream",
     "text": [
      "Order Statistics: 3\n",
      "Total Products Ordered: 3\n",
      "Percentage of Products Ordered: 60.0%\n",
      "\n",
      "Updated Inventory:\n",
      "t-shirt: 1\n",
      "mug: 0\n",
      "hat: 1\n",
      "book: 2\n",
      "key chain: 4\n"
     ]
    }
   ],
   "source": [
    "total_products_ordered = len(customer_orders)\n",
    "percentage_ordered = (total_products_ordered / len(products)) * 100\n",
    "order_status = (total_products_ordered, percentage_ordered)\n",
    "\n",
    "print(f\"Order Statistics: {order_status[0]}\")\n",
    "print(f\"Total Products Ordered: {total_products_ordered}\")\n",
    "print(f\"Percentage of Products Ordered: {percentage_ordered}%\")\n",
    "\n",
    "for product in customer_orders:\n",
    "    if inventory[product] > 0:\n",
    "        inventory[product] -= 1\n",
    "    else:\n",
    "        print(f\"Warning: {product} is out of stock!\")\n",
    "        \n",
    "print(\"\\nUpdated Inventory:\")\n",
    "for product, quantity in inventory.items():\n",
    "    print(f\"{product}: {quantity}\")"
   ]
  },
  {
   "cell_type": "code",
   "execution_count": null,
   "id": "e54eb57c-8e0f-4195-a0e4-0f608a2665ab",
   "metadata": {},
   "outputs": [],
   "source": []
  }
 ],
 "metadata": {
  "kernelspec": {
   "display_name": "Python 3 (ipykernel)",
   "language": "python",
   "name": "python3"
  },
  "language_info": {
   "codemirror_mode": {
    "name": "ipython",
    "version": 3
   },
   "file_extension": ".py",
   "mimetype": "text/x-python",
   "name": "python",
   "nbconvert_exporter": "python",
   "pygments_lexer": "ipython3",
   "version": "3.12.4"
  }
 },
 "nbformat": 4,
 "nbformat_minor": 5
}
